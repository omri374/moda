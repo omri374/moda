{
 "cells": [
  {
   "cell_type": "code",
   "execution_count": 7,
   "metadata": {},
   "outputs": [],
   "source": [
    "import pandas as pd\n",
    "from moda.dataprep import raw_to_ts, ts_to_range"
   ]
  },
  {
   "cell_type": "code",
   "execution_count": 8,
   "metadata": {},
   "outputs": [],
   "source": [
    "DATAPATH = \"example/SF_data/SF311-2008.csv\"\n",
    "# The dataset can be downloaded from here: https://data.sfgov.org/City-Infrastructure/311-Cases/vw6y-z8j6/data\n",
    "TIME_RANGE = \"3H\" # Aggregate all events in the raw data into 3 hour intervals\n",
    "\n",
    "# Read raw file\n",
    "raw = pd.read_csv(DATAPATH,nrows=100000)\n",
    "raw = raw.rename(columns={'Opened':'date','Category':'category'})\n",
    "\n",
    "# Turn the raw data into a time series (with date as a pandas DatetimeIndex)\n",
    "ts = raw_to_ts(raw)\n",
    "\n",
    "# Aggregate items per time and category, given a time interval\n",
    "ranged_ts = ts_to_range(ts,time_range=TIME_RANGE)"
   ]
  },
  {
   "cell_type": "code",
   "execution_count": 9,
   "metadata": {},
   "outputs": [
    {
     "data": {
      "text/plain": "                                         category             Request Details  \\\ndate                                                                            \n2008-07-02 15:16:55              Tree Maintenance  Lifted_sidewalk_tree_roots   \n2008-07-02 16:47:08              Tree Maintenance                Hanging_limb   \n2008-07-02 17:54:07              Tree Maintenance      Blocking_street_lights   \n2008-07-03 12:38:04              Tree Maintenance     Sprinkler_system_issues   \n2008-07-03 12:44:26  Street and Sidewalk Cleaning         Other Loose Garbage   \n\n                      timestamp  \ndate                             \n2008-07-02 15:16:55  1215011815  \n2008-07-02 16:47:08  1215017228  \n2008-07-02 17:54:07  1215021247  \n2008-07-03 12:38:04  1215088684  \n2008-07-03 12:44:26  1215089066  ",
      "text/html": "<div>\n<style scoped>\n    .dataframe tbody tr th:only-of-type {\n        vertical-align: middle;\n    }\n\n    .dataframe tbody tr th {\n        vertical-align: top;\n    }\n\n    .dataframe thead th {\n        text-align: right;\n    }\n</style>\n<table border=\"1\" class=\"dataframe\">\n  <thead>\n    <tr style=\"text-align: right;\">\n      <th></th>\n      <th>category</th>\n      <th>Request Details</th>\n      <th>timestamp</th>\n    </tr>\n    <tr>\n      <th>date</th>\n      <th></th>\n      <th></th>\n      <th></th>\n    </tr>\n  </thead>\n  <tbody>\n    <tr>\n      <th>2008-07-02 15:16:55</th>\n      <td>Tree Maintenance</td>\n      <td>Lifted_sidewalk_tree_roots</td>\n      <td>1215011815</td>\n    </tr>\n    <tr>\n      <th>2008-07-02 16:47:08</th>\n      <td>Tree Maintenance</td>\n      <td>Hanging_limb</td>\n      <td>1215017228</td>\n    </tr>\n    <tr>\n      <th>2008-07-02 17:54:07</th>\n      <td>Tree Maintenance</td>\n      <td>Blocking_street_lights</td>\n      <td>1215021247</td>\n    </tr>\n    <tr>\n      <th>2008-07-03 12:38:04</th>\n      <td>Tree Maintenance</td>\n      <td>Sprinkler_system_issues</td>\n      <td>1215088684</td>\n    </tr>\n    <tr>\n      <th>2008-07-03 12:44:26</th>\n      <td>Street and Sidewalk Cleaning</td>\n      <td>Other Loose Garbage</td>\n      <td>1215089066</td>\n    </tr>\n  </tbody>\n</table>\n</div>"
     },
     "execution_count": 9,
     "metadata": {},
     "output_type": "execute_result"
    }
   ],
   "source": [
    "raw.head()"
   ]
  },
  {
   "cell_type": "code",
   "execution_count": 10,
   "metadata": {},
   "outputs": [
    {
     "data": {
      "text/plain": "                                                  value\ndate                category                           \n2008-07-01 00:00:00 Abandoned Vehicle               1.0\n                    Street and Sidewalk Cleaning    2.0\n                    Tree Maintenance                1.0\n2008-07-01 03:00:00 311 External Request            1.0\n                    Abandoned Vehicle               0.0",
      "text/html": "<div>\n<style scoped>\n    .dataframe tbody tr th:only-of-type {\n        vertical-align: middle;\n    }\n\n    .dataframe tbody tr th {\n        vertical-align: top;\n    }\n\n    .dataframe thead th {\n        text-align: right;\n    }\n</style>\n<table border=\"1\" class=\"dataframe\">\n  <thead>\n    <tr style=\"text-align: right;\">\n      <th></th>\n      <th></th>\n      <th>value</th>\n    </tr>\n    <tr>\n      <th>date</th>\n      <th>category</th>\n      <th></th>\n    </tr>\n  </thead>\n  <tbody>\n    <tr>\n      <th rowspan=\"3\" valign=\"top\">2008-07-01 00:00:00</th>\n      <th>Abandoned Vehicle</th>\n      <td>1.0</td>\n    </tr>\n    <tr>\n      <th>Street and Sidewalk Cleaning</th>\n      <td>2.0</td>\n    </tr>\n    <tr>\n      <th>Tree Maintenance</th>\n      <td>1.0</td>\n    </tr>\n    <tr>\n      <th rowspan=\"2\" valign=\"top\">2008-07-01 03:00:00</th>\n      <th>311 External Request</th>\n      <td>1.0</td>\n    </tr>\n    <tr>\n      <th>Abandoned Vehicle</th>\n      <td>0.0</td>\n    </tr>\n  </tbody>\n</table>\n</div>"
     },
     "execution_count": 10,
     "metadata": {},
     "output_type": "execute_result"
    }
   ],
   "source": [
    "ranged_ts.head()"
   ]
  },
  {
   "cell_type": "code",
   "execution_count": 11,
   "metadata": {},
   "outputs": [
    {
     "name": "stdout",
     "output_type": "stream",
     "text": [
      "Read 8661 rows\n",
      "                                       Unnamed: 0  value  label\n",
      "date       category                                            \n",
      "2018-01-01 Abandoned Vehicle                    0     52      0\n",
      "           Blocked Street or SideWalk           1     14      0\n",
      "           Catch Basin Maintenance              2      1      0\n",
      "           Color Curb                           3      2      0\n",
      "           Damaged Property                     4     18      0\n",
      "STL Initialized with this params:\n",
      "freq = 24H\n",
      "is_multicategory = True\n",
      "lo_delta = 0\n",
      "lo_frac = 0.6\n",
      "num_of_std = 3\n",
      "seasonality = 7\n",
      "min_value = 10\n",
      "anomaly_type = residual\n",
      "resample = True\n",
      "min_periods = 10\n",
      "lookback = 30D\n",
      "f1 = 0.6290322580645161\n",
      "precision = 0.6964285714285714\n",
      "recall = 0.5735294117647058\n"
     ]
    }
   ],
   "source": [
    "from moda.evaluators import get_metrics_for_all_categories, get_final_metrics\n",
    "from moda.dataprep import read_data\n",
    "from moda.models import STLTrendinessDetector\n",
    "\n",
    "dataset = read_data(\"datasets/SF24H_labeled.csv\")\n",
    "print(dataset.head())\n",
    "\n",
    "model = STLTrendinessDetector(freq='24H', \n",
    "                              min_value=10,\n",
    "                              anomaly_type='residual',\n",
    "                              num_of_std=3, lo_delta=0)\n",
    "\n",
    "# Take the entire time series and evaluate anomalies on all of it or just the last window(s)\n",
    "prediction = model.predict(dataset)\n",
    "raw_metrics = get_metrics_for_all_categories(dataset[['value']], prediction[['prediction']], dataset[['label']],\n",
    "                                             window_size_for_metrics=1)\n",
    "metrics = get_final_metrics(raw_metrics)\n",
    "print('f1 = {}'.format(metrics['f1']))\n",
    "print('precision = {}'.format(metrics['precision']))\n",
    "print('recall = {}'.format(metrics['recall']))\n",
    "\n",
    "## Plot results for each category\n",
    "#model.plot(labels=dataset['label'])"
   ]
  }
 ],
 "metadata": {
  "kernelspec": {
   "name": "pycharm-3e131f8d",
   "language": "python",
   "display_name": "PyCharm (moda)"
  },
  "language_info": {
   "codemirror_mode": {
    "name": "ipython",
    "version": 3
   },
   "file_extension": ".py",
   "mimetype": "text/x-python",
   "name": "python",
   "nbconvert_exporter": "python",
   "pygments_lexer": "ipython3",
   "version": "3.6.5"
  }
 },
 "nbformat": 4,
 "nbformat_minor": 2
}